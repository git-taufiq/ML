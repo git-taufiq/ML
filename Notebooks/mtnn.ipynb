{
 "cells": [
  {
   "cell_type": "markdown",
   "metadata": {},
   "source": [
    "# Neural-network based inversion of magnetotelluric data"
   ]
  },
  {
   "cell_type": "code",
   "execution_count": 49,
   "metadata": {},
   "outputs": [],
   "source": [
    "import math \n",
    "import tensorflow as tf\n",
    "from tensorflow import keras\n",
    "from tensorflow.keras import layers\n",
    "import numpy as np\n",
    "import matplotlib.pyplot as plt\n",
    "from sklearn.preprocessing import StandardScaler"
   ]
  },
  {
   "cell_type": "markdown",
   "metadata": {},
   "source": [
    "Define a function that calculates synthetic magnetotelluric data for a layered model. Takes calculation frequencies, layer thicknesses in meters and layer resistivities, returns complex impedace."
   ]
  },
  {
   "cell_type": "code",
   "execution_count": 50,
   "metadata": {},
   "outputs": [],
   "source": [
    "def MT1D(frequencies, thicknesses, resistivities):\n",
    "     Z = 1.0j* np.zeros(len(frequencies))\n",
    "     for f in range(0,len(frequencies)):      \n",
    "         freq = frequencies[f]   \n",
    "         omegamu = -1.0j * math.pi**2 * 8.0e-7 * freq\n",
    "         sigmacurr = 1.0/ resistivities[len(resistivities)-1]\n",
    "         kcurr = np.sqrt(omegamu * sigmacurr)\n",
    "         alpha = 1.0j*np.zeros(len(thicknesses))        \n",
    "         for index in range(len(resistivities)-2,-1,-1):\n",
    "                sigmalow = 1.0 / resistivities[index + 1]\n",
    "                sigmacurr = 1.0 / resistivities[index]\n",
    "                kcurr = np.sqrt(omegamu * sigmacurr)\n",
    "                klow = np.sqrt(omegamu * sigmalow)\n",
    "                if (np.real(kcurr) < 0.0):\n",
    "                    kcurr = -1.0 * kcurr\n",
    "                    klow = -1.0 * klow                  \n",
    "                xi = omegamu * (sigmacurr - sigmalow) / (kcurr + klow)**2\n",
    "                alpha[index + 1] = (xi + alpha[index + 1]) / (1. + xi * alpha[index + 1])\n",
    "                alpha[index] = alpha[index + 1] * np.exp(-2. * kcurr * thicknesses[index])\n",
    "     \n",
    "         adm = kcurr / (-1.0j * 2. * math.pi * freq) * ((1.- alpha[0]) / (1. + alpha[0]))\n",
    "         Z[f]= np.conj(1. /adm) * 4.0e-7 * math.pi\n",
    "     return Z;\n",
    " "
   ]
  },
  {
   "cell_type": "markdown",
   "metadata": {},
   "source": [
    "Create a training dataset and test dataset based on two layer models with known thickness and random resistivities. The data will be the input and the models the reference output for the neural network."
   ]
  },
  {
   "cell_type": "code",
   "execution_count": 62,
   "metadata": {},
   "outputs": [],
   "source": [
    "freq = np.array([100, 10, 1, 0.1, 0.01] )\n",
    "thick = np.array([1000, 10000]    )\n",
    "def MakeData():\n",
    "\n",
    "  nsamples = 500\n",
    "  data = np.zeros([nsamples,2 * freq.size])\n",
    "  models = np.zeros([nsamples,thick.size])\n",
    "  for i in range(nsamples):\n",
    "    res = np.exp(5 * np.random.rand(thick.size))\n",
    "    models[i,:] = np.log(res)\n",
    "    Z = MT1D(freq,thick,res)\n",
    "    data[i,::2] = np.divide(Z.real,  np.sqrt(freq))\n",
    "    data[i,1::2] = np.divide(Z.imag,  np.sqrt(freq))\n",
    "    \n",
    "  ntrain = 400\n",
    "  x_train = data[:ntrain,:]\n",
    "  y_train = models[:ntrain,:]\n",
    "  x_test = data[ntrain:,:]\n",
    "  y_test = models[ntrain:,:]\n",
    "  return x_train, y_train, x_test, y_test"
   ]
  },
  {
   "cell_type": "markdown",
   "metadata": {},
   "source": [
    "Plot a sample of the training data and histograms of all inputs and outputs.\n",
    "\n",
    "## Questions\n",
    "- What kind of distributions do you observe?\n",
    "- What implications do these distributions have for training the neural network?"
   ]
  },
  {
   "cell_type": "code",
   "execution_count": 63,
   "metadata": {},
   "outputs": [
    {
     "data": {
      "image/png": "[encoded data removed]",
      "text/plain": [
       "<Figure size 432x288 with 2 Axes>"
      ]
     },
     "metadata": {
      "needs_background": "light"
     },
     "output_type": "display_data"
    },
    {
     "data": {
      "image/png": "[encoded data removed]",
      "text/plain": [
       "<Figure size 432x288 with 2 Axes>"
      ]
     },
     "metadata": {
      "needs_background": "light"
     },
     "output_type": "display_data"
    }
   ],
   "source": [
    "x_train, y_train, x_test, y_test = MakeData()\n",
    "\n",
    "plt.figure()\n",
    "plt.subplot(211)\n",
    "plt.semilogx(freq,x_train[0,::2])\n",
    "plt.semilogx(freq,x_train[0,1::2])\n",
    "plt.subplot(212)\n",
    "plt.semilogx(np.exp([y_train[0,0],y_train[0,0],y_train[0,1],y_train[0,1]]),[0,1000,1000,3000])\n",
    "plt.gca().invert_yaxis()\n",
    "plt.show()\n",
    "plt.figure()\n",
    "plt.subplot(211)\n",
    "plt.hist(x_train.flatten(),bins=50)\n",
    "plt.subplot(212)\n",
    "plt.hist(y_train.flatten(),bins=50)\n",
    "plt.show()"
   ]
  },
  {
   "cell_type": "markdown",
   "metadata": {},
   "source": [
    "Now we create a neural network. The default is a random amalgamation of different activation functions and their associated initializers. The main reason for this is to provide a repository for the different options."
   ]
  },
  {
   "cell_type": "code",
   "execution_count": 64,
   "metadata": {},
   "outputs": [
    {
     "name": "stdout",
     "output_type": "stream",
     "text": [
      "Model: \"sequential_8\"\n",
      "_________________________________________________________________\n",
      "Layer (type)                 Output Shape              Param #   \n",
      "=================================================================\n",
      "dense_30 (Dense)             (None, 100)               1100      \n",
      "_________________________________________________________________\n",
      "dense_31 (Dense)             (None, 100)               10100     \n",
      "_________________________________________________________________\n",
      "dense_32 (Dense)             (None, 100)               10100     \n",
      "_________________________________________________________________\n",
      "dense_33 (Dense)             (None, 2)                 202       \n",
      "=================================================================\n",
      "Total params: 21,502\n",
      "Trainable params: 21,502\n",
      "Non-trainable params: 0\n",
      "_________________________________________________________________\n",
      "Epoch 1/100\n",
      "13/13 [==============================] - 0s 827us/step - loss: 5.3968\n",
      "Epoch 2/100\n",
      "13/13 [==============================] - 0s 1ms/step - loss: 4.5062\n",
      "Epoch 3/100\n",
      "13/13 [==============================] - 0s 1ms/step - loss: 4.4274\n",
      "Epoch 4/100\n",
      "13/13 [==============================] - 0s 1ms/step - loss: 4.4153\n",
      "Epoch 5/100\n",
      "13/13 [==============================] - 0s 1ms/step - loss: 4.4121\n",
      "Epoch 6/100\n",
      "13/13 [==============================] - 0s 1ms/step - loss: 4.4110\n",
      "Epoch 7/100\n",
      "13/13 [==============================] - 0s 1ms/step - loss: 4.4106\n",
      "Epoch 8/100\n",
      "13/13 [==============================] - 0s 1ms/step - loss: 4.4104\n",
      "Epoch 9/100\n",
      "13/13 [==============================] - 0s 1ms/step - loss: 4.4104\n",
      "Epoch 10/100\n",
      "13/13 [==============================] - 0s 1ms/step - loss: 4.4103\n",
      "Epoch 11/100\n",
      "13/13 [==============================] - 0s 1ms/step - loss: 4.4103\n",
      "Epoch 12/100\n",
      "13/13 [==============================] - 0s 1ms/step - loss: 4.4103\n",
      "Epoch 13/100\n",
      "13/13 [==============================] - 0s 2ms/step - loss: 4.4103\n",
      "Epoch 14/100\n",
      "13/13 [==============================] - 0s 1ms/step - loss: 4.4103\n",
      "Epoch 15/100\n",
      "13/13 [==============================] - 0s 1ms/step - loss: 4.4103\n",
      "Epoch 16/100\n",
      "13/13 [==============================] - 0s 2ms/step - loss: 4.4103\n",
      "Epoch 17/100\n",
      "13/13 [==============================] - 0s 1ms/step - loss: 4.4103\n",
      "Epoch 18/100\n",
      "13/13 [==============================] - 0s 1ms/step - loss: 4.4103\n",
      "Epoch 19/100\n",
      "13/13 [==============================] - 0s 1ms/step - loss: 4.4103\n",
      "Epoch 20/100\n",
      "13/13 [==============================] - 0s 1ms/step - loss: 4.4103\n",
      "Epoch 21/100\n",
      "13/13 [==============================] - 0s 1ms/step - loss: 4.4103\n",
      "Epoch 22/100\n",
      "13/13 [==============================] - 0s 1ms/step - loss: 4.4103\n",
      "Epoch 23/100\n",
      "13/13 [==============================] - 0s 1ms/step - loss: 4.4103\n",
      "Epoch 24/100\n",
      "13/13 [==============================] - 0s 2ms/step - loss: 4.4103\n",
      "Epoch 25/100\n",
      "13/13 [==============================] - 0s 1ms/step - loss: 4.4103\n",
      "Epoch 26/100\n",
      "13/13 [==============================] - 0s 2ms/step - loss: 4.4103\n",
      "Epoch 27/100\n",
      "13/13 [==============================] - 0s 1ms/step - loss: 4.4103\n",
      "Epoch 28/100\n",
      "13/13 [==============================] - 0s 1ms/step - loss: 4.4103\n",
      "Epoch 29/100\n",
      "13/13 [==============================] - 0s 1ms/step - loss: 4.4103\n",
      "Epoch 30/100\n",
      "13/13 [==============================] - 0s 2ms/step - loss: 4.4103\n",
      "Epoch 31/100\n",
      "13/13 [==============================] - 0s 1ms/step - loss: 4.4103\n",
      "Epoch 32/100\n",
      "13/13 [==============================] - 0s 1ms/step - loss: 4.4103\n",
      "Epoch 33/100\n",
      "13/13 [==============================] - 0s 2ms/step - loss: 4.4103\n",
      "Epoch 34/100\n",
      "13/13 [==============================] - 0s 1ms/step - loss: 4.4103\n",
      "Epoch 35/100\n",
      "13/13 [==============================] - 0s 1ms/step - loss: 4.4103\n",
      "Epoch 36/100\n",
      "13/13 [==============================] - 0s 1ms/step - loss: 4.4103\n",
      "Epoch 37/100\n",
      "13/13 [==============================] - 0s 1ms/step - loss: 4.4103\n",
      "Epoch 38/100\n",
      "13/13 [==============================] - 0s 1ms/step - loss: 4.4103\n",
      "Epoch 39/100\n",
      "13/13 [==============================] - 0s 1ms/step - loss: 4.4103\n",
      "Epoch 40/100\n",
      "13/13 [==============================] - 0s 1ms/step - loss: 4.4103\n",
      "Epoch 41/100\n",
      "13/13 [==============================] - 0s 1ms/step - loss: 4.4103\n",
      "Epoch 42/100\n",
      "13/13 [==============================] - 0s 1ms/step - loss: 4.4103\n",
      "Epoch 43/100\n",
      "13/13 [==============================] - 0s 1ms/step - loss: 4.4103\n",
      "Epoch 44/100\n",
      "13/13 [==============================] - 0s 2ms/step - loss: 4.4103\n",
      "Epoch 45/100\n",
      "13/13 [==============================] - 0s 1ms/step - loss: 4.4103\n",
      "Epoch 46/100\n",
      "13/13 [==============================] - 0s 1ms/step - loss: 4.4103\n",
      "Epoch 47/100\n",
      "13/13 [==============================] - 0s 1ms/step - loss: 4.4103\n",
      "Epoch 48/100\n",
      "13/13 [==============================] - 0s 2ms/step - loss: 4.4103\n",
      "Epoch 49/100\n",
      "13/13 [==============================] - 0s 1ms/step - loss: 4.4103\n",
      "Epoch 50/100\n",
      "13/13 [==============================] - 0s 1ms/step - loss: 4.4103\n",
      "Epoch 51/100\n",
      "13/13 [==============================] - 0s 1ms/step - loss: 4.4103\n",
      "Epoch 52/100\n",
      "13/13 [==============================] - 0s 2ms/step - loss: 4.4103\n",
      "Epoch 53/100\n",
      "13/13 [==============================] - 0s 1ms/step - loss: 4.4103\n",
      "Epoch 54/100\n",
      "13/13 [==============================] - 0s 2ms/step - loss: 4.4103\n",
      "Epoch 55/100\n",
      "13/13 [==============================] - 0s 2ms/step - loss: 4.4103\n",
      "Epoch 56/100\n",
      "13/13 [==============================] - 0s 1ms/step - loss: 4.4103\n",
      "Epoch 57/100\n",
      "13/13 [==============================] - 0s 1ms/step - loss: 4.4103\n",
      "Epoch 58/100\n",
      "13/13 [==============================] - 0s 1ms/step - loss: 4.4103\n",
      "Epoch 59/100\n",
      "13/13 [==============================] - 0s 1ms/step - loss: 4.4103\n",
      "Epoch 60/100\n",
      "13/13 [==============================] - 0s 1ms/step - loss: 4.4103\n",
      "Epoch 61/100\n",
      "13/13 [==============================] - 0s 1ms/step - loss: 4.4103\n",
      "Epoch 62/100\n",
      "13/13 [==============================] - 0s 1ms/step - loss: 4.4103\n",
      "Epoch 63/100\n",
      "13/13 [==============================] - 0s 1ms/step - loss: 4.4103\n",
      "Epoch 64/100\n",
      "13/13 [==============================] - 0s 1ms/step - loss: 4.4103\n",
      "Epoch 65/100\n",
      "13/13 [==============================] - 0s 1ms/step - loss: 4.4103\n",
      "Epoch 66/100\n",
      "13/13 [==============================] - 0s 1ms/step - loss: 4.4103\n",
      "Epoch 67/100\n",
      "13/13 [==============================] - 0s 1ms/step - loss: 4.4103\n",
      "Epoch 68/100\n",
      "13/13 [==============================] - 0s 1ms/step - loss: 4.4103\n",
      "Epoch 69/100\n",
      "13/13 [==============================] - 0s 1ms/step - loss: 4.4103\n",
      "Epoch 70/100\n",
      "13/13 [==============================] - 0s 1ms/step - loss: 4.4103\n",
      "Epoch 71/100\n",
      "13/13 [==============================] - 0s 1ms/step - loss: 4.4103\n",
      "Epoch 72/100\n",
      "13/13 [==============================] - 0s 1ms/step - loss: 4.4103\n",
      "Epoch 73/100\n",
      "13/13 [==============================] - 0s 1ms/step - loss: 4.4103\n",
      "Epoch 74/100\n",
      "13/13 [==============================] - 0s 1ms/step - loss: 4.4103\n",
      "Epoch 75/100\n",
      "13/13 [==============================] - 0s 1ms/step - loss: 4.4103\n",
      "Epoch 76/100\n",
      "13/13 [==============================] - 0s 1ms/step - loss: 4.4103\n",
      "Epoch 77/100\n",
      "13/13 [==============================] - 0s 985us/step - loss: 4.4103\n",
      "Epoch 78/100\n",
      "13/13 [==============================] - 0s 1ms/step - loss: 4.4103\n",
      "Epoch 79/100\n",
      "13/13 [==============================] - 0s 1ms/step - loss: 4.4103\n",
      "Epoch 80/100\n",
      "13/13 [==============================] - 0s 1ms/step - loss: 4.4103\n",
      "Epoch 81/100\n",
      "13/13 [==============================] - 0s 979us/step - loss: 4.4103\n",
      "Epoch 82/100\n",
      "13/13 [==============================] - 0s 1ms/step - loss: 4.4103\n",
      "Epoch 83/100\n",
      "13/13 [==============================] - 0s 974us/step - loss: 4.4103\n",
      "Epoch 84/100\n",
      "13/13 [==============================] - 0s 1ms/step - loss: 4.4103\n",
      "Epoch 85/100\n",
      "13/13 [==============================] - 0s 1ms/step - loss: 4.4103\n",
      "Epoch 86/100\n",
      "13/13 [==============================] - 0s 1ms/step - loss: 4.4103\n",
      "Epoch 87/100\n",
      "13/13 [==============================] - 0s 1ms/step - loss: 4.4103\n",
      "Epoch 88/100\n",
      "13/13 [==============================] - 0s 1ms/step - loss: 4.4103\n",
      "Epoch 89/100\n",
      "13/13 [==============================] - 0s 1ms/step - loss: 4.4103\n",
      "Epoch 90/100\n",
      "13/13 [==============================] - 0s 1ms/step - loss: 4.4103\n",
      "Epoch 91/100\n"
     ]
    },
    {
     "name": "stdout",
     "output_type": "stream",
     "text": [
      "13/13 [==============================] - 0s 1ms/step - loss: 4.4103\n",
      "Epoch 92/100\n",
      "13/13 [==============================] - 0s 1ms/step - loss: 4.4103\n",
      "Epoch 93/100\n",
      "13/13 [==============================] - 0s 1ms/step - loss: 4.4103\n",
      "Epoch 94/100\n",
      "13/13 [==============================] - 0s 1ms/step - loss: 4.4103\n",
      "Epoch 95/100\n",
      "13/13 [==============================] - 0s 1ms/step - loss: 4.4103\n",
      "Epoch 96/100\n",
      "13/13 [==============================] - 0s 1ms/step - loss: 4.4103\n",
      "Epoch 97/100\n",
      "13/13 [==============================] - 0s 994us/step - loss: 4.4103\n",
      "Epoch 98/100\n",
      "13/13 [==============================] - 0s 1ms/step - loss: 4.4103\n",
      "Epoch 99/100\n",
      "13/13 [==============================] - 0s 935us/step - loss: 4.4103\n",
      "Epoch 100/100\n",
      "13/13 [==============================] - 0s 1ms/step - loss: 4.4103\n"
     ]
    }
   ],
   "source": [
    "model = keras.Sequential(\n",
    "    [keras.Input(shape=(x_train.shape[1],)),\n",
    "     layers.Dense(100, activation='selu', kernel_initializer=\"lecun_normal\")  ,\n",
    "     layers.Dense(100, activation='relu', kernel_initializer=\"he_normal\")  ,\n",
    "     layers.Dense(100, activation=keras.layers.LeakyReLU(alpha=0.3), kernel_initializer=\"he_normal\")  ,\n",
    "     layers.Dense(y_train.shape[1], activation=\"sigmoid\",kernel_initializer=\"glorot_normal\")\n",
    "     ]\n",
    "    )\n",
    "\n",
    "model.summary()\n",
    "# Call model on a test input\n",
    "\n",
    "model.compile(optimizer=keras.optimizers.RMSprop(),\n",
    "              loss=keras.losses.MeanSquaredError())\n",
    "h = model.fit(x_train, y_train, epochs=100)"
   ]
  },
  {
   "cell_type": "markdown",
   "metadata": {},
   "source": [
    "Calculate and print the prediction misfit for the test and training data."
   ]
  },
  {
   "cell_type": "code",
   "execution_count": 54,
   "metadata": {},
   "outputs": [
    {
     "name": "stdout",
     "output_type": "stream",
     "text": [
      "13/13 [==============================] - 0s 927us/step - loss: 4.2784\n",
      "4/4 [==============================] - 0s 835us/step - loss: 3.9663\n",
      "4.278365612030029\n",
      "3.9663314819335938\n",
      "{'verbose': 1, 'epochs': 100, 'steps': 13}\n"
     ]
    }
   ],
   "source": [
    "etest = model.evaluate(x_train, y_train)\n",
    "etrain = model.evaluate(x_test, y_test)\n",
    "print (etest)\n",
    "print (etrain)\n"
   ]
  },
  {
   "cell_type": "markdown",
   "metadata": {},
   "source": [
    "Plot the output of the neural network against the true value for each layer. What would indicate a good result?"
   ]
  },
  {
   "cell_type": "code",
   "execution_count": 55,
   "metadata": {},
   "outputs": [
    {
     "data": {
      "image/png": "[encoded data removed]",
      "text/plain": [
       "<Figure size 432x288 with 1 Axes>"
      ]
     },
     "metadata": {
      "needs_background": "light"
     },
     "output_type": "display_data"
    }
   ],
   "source": [
    "pred = model.predict(x_test)\n",
    "plt.figure()\n",
    "plt.scatter(y_test[:,0],pred[:,0])\n",
    "plt.scatter(y_test[:,1],pred[:,1])\n",
    "plt.plot([np.min(y_test[:,0]),np.max(y_test[:,0])],[np.min(y_test[:,0]),np.max(y_test[:,0])])\n",
    "plt.show()"
   ]
  },
  {
   "cell_type": "markdown",
   "metadata": {},
   "source": [
    "## Tasks\n",
    "- Prepare the input and output data that it is more amenable to neural network training\n",
    "- Find the simplest neural network that produces satisfactory results."
   ]
  },
  {
   "cell_type": "code",
   "execution_count": null,
   "metadata": {},
   "outputs": [],
   "source": []
  }
 ],
 "metadata": {
  "kernelspec": {
   "display_name": "Python 3",
   "language": "python",
   "name": "python3"
  },
  "language_info": {
   "codemirror_mode": {
    "name": "ipython",
    "version": 3
   },
   "file_extension": ".py",
   "mimetype": "text/x-python",
   "name": "python",
   "nbconvert_exporter": "python",
   "pygments_lexer": "ipython3",
   "version": "3.8.5"
  }
 },
 "nbformat": 4,
 "nbformat_minor": 4
}
